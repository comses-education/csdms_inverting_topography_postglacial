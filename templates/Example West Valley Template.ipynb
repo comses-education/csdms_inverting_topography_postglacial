{
 "cells": [
  {
   "cell_type": "code",
   "execution_count": null,
   "metadata": {
    "collapsed": false
   },
   "outputs": [],
   "source": [
    "# import all necessary modules\n",
    "from subprocess import call\n",
    "from landlab.io.netcdf import read_netcdf \n",
    "from landlab import imshow_grid\n",
    "from yaml import load\n",
    "\n",
    "# read parameters\n",
    "with open('inputs.txt', 'r') as f:\n",
    "    params = load(f)\n",
    "\n",
    "for pk in params.keys():\n",
    "    print(pk, ':', params[pk])\n",
    "\n",
    "# execute python driver script\n",
    "call(['python', 'driver.py'])\n"
   ]
  },
  {
   "cell_type": "code",
   "execution_count": null,
   "metadata": {
    "collapsed": true
   },
   "outputs": [],
   "source": [
    "import matplotlib.pylab as plt\n",
    "\n",
    "# read in output topography\n",
    "topo_file_name = params['output_filename']+'0001.nc'\n",
    "grid = read_netcdf(topo_file_name)\n",
    "z = grid.at_node['topographic__elevation']\n",
    "\n",
    "# plot ending topography\n",
    "imshow_grid(grid, z, vmin=1230, vmax=1940, cmap='viridis')\n",
    "plt.show()"
   ]
  }
 ],
 "metadata": {
  "kernelspec": {
   "display_name": "Python 3",
   "language": "python",
   "name": "python3"
  },
  "language_info": {
   "codemirror_mode": {
    "name": "ipython",
    "version": 3
   },
   "file_extension": ".py",
   "mimetype": "text/x-python",
   "name": "python",
   "nbconvert_exporter": "python",
   "pygments_lexer": "ipython3",
   "version": "3.6.0"
  }
 },
 "nbformat": 4,
 "nbformat_minor": 2
}
